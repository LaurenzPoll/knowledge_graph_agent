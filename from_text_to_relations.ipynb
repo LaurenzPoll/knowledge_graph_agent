{
 "cells": [
  {
   "cell_type": "markdown",
   "id": "bb431b06",
   "metadata": {},
   "source": [
    "# From text to relations\n",
    "\n",
    "In this notebook we’ll explore how to go from an arbitrary text snippet to a set of subject–predicate–object triples using a LLM"
   ]
  },
  {
   "cell_type": "markdown",
   "id": "c85c407a",
   "metadata": {},
   "source": [
    "## 1. Load a single TXT file\n",
    "To inspect the txt file it will be loaded directly in the notebook. The text file has been created from the wikipedia page of [Napoleon Bonaparte](https://en.wikipedia.org/wiki/Napoleon). In the text double spacing has been added in one place and a newline character"
   ]
  },
  {
   "cell_type": "code",
   "execution_count": 11,
   "id": "5cbb8500",
   "metadata": {},
   "outputs": [
    {
     "name": "stdout",
     "output_type": "stream",
     "text": [
      "'Napoleon Bonaparte (born Napoleone di Buonaparte 15 August 1769 – 5 May 1821),\n",
      "later known by his regnal name Napoleon I, was a French   general and statesman\n",
      "who rose to prominence during the French Revolution and led a series of military\n",
      "campaigns across Europe during the French Revolutionary and Napoleonic Wars from\n",
      "1796 to 1815. He led the French Republic as First Consul from 1799 to 1804, then\n",
      "ruled the French Empire as Emperor of the French from 1804 to 1814, and briefly\n",
      "again in 1815. He was King of Italy from 1805 to 1814 and Protector of the\n",
      "Confederation of the Rhine from 1806 to 1813. Born on the island of Corsica to a\n",
      "family of Italian origin, Napoleon moved to mainland France in 1779 and was\n",
      "commissioned as an officer in the French Royal Army in 1785.\\nHe supported the\n",
      "French Revolution in 1789 and promoted its cause in Corsica.'\n"
     ]
    }
   ],
   "source": [
    "from pathlib import Path\n",
    "import textwrap\n",
    "\n",
    "path = Path(\"test_file.txt\")\n",
    "with open(path, encoding=\"utf-8\") as f:\n",
    "    raw_text = f.read()\n",
    "\n",
    "wrapped = textwrap.fill(repr(raw_text), width=80)\n",
    "print(wrapped)"
   ]
  },
  {
   "cell_type": "markdown",
   "id": "0ed844f7",
   "metadata": {},
   "source": [
    "The LLM will be a smaller model. For this reason the splitting is important as to not confuse the model with too little context. Langchains Document loader will be used to handle the file.\n",
    "\n",
    "First a method will be found to clean the text"
   ]
  },
  {
   "cell_type": "code",
   "execution_count": 12,
   "id": "9c39a49c",
   "metadata": {},
   "outputs": [],
   "source": [
    "import re\n",
    "import unicodedata\n",
    "from ftfy import fix_text\n",
    "\n",
    "def clean_text(text: str) -> str:\n",
    "    text = fix_text(text)\n",
    "    text = unicodedata.normalize(\"NFC\", text)\n",
    "    text = text.replace(\"\\\\n\", \" \")\n",
    "    text = re.sub(r\"(?<!\\n)\\n(?!\\n)\", \" \", text)\n",
    "\n",
    "    text = (\n",
    "        text.replace(\"“\", '\"')\n",
    "            .replace(\"”\", '\"')\n",
    "            .replace(\"‘\", \"'\")\n",
    "            .replace(\"’\", \"'\")\n",
    "            .replace(\"—\", \" - \")\n",
    "            .replace(\"–\", \" - \")\n",
    "            .replace(\"…\", \"...\")\n",
    "    )\n",
    "\n",
    "    text = re.sub(r\"[ \\t]+\", \" \", text)\n",
    "    text = re.sub(r\"\\n\\s*\\n+\", \"\\n\\n\", text)\n",
    "    lines = [line.strip() for line in text.splitlines()]\n",
    "    return \"\\n\".join(lines).strip()"
   ]
  },
  {
   "cell_type": "code",
   "execution_count": 13,
   "id": "289381cd",
   "metadata": {},
   "outputs": [
    {
     "name": "stdout",
     "output_type": "stream",
     "text": [
      "'Napoleon Bonaparte (born Napoleone di Buonaparte 15 August 1769 - 5 May 1821), later known by his regnal name Napoleon I, was a French general and statesman who rose to prominence during the French Revolution and led a series of military campaigns across Europe during the French Revolutionary and Napoleonic Wars from 1796 to 1815. He led the French Republic as First Consul from 1799 to 1804, then ruled the French Empire as Emperor of the French from 1804 to 1814, and briefly again in 1815. He was King of Italy from 1805 to 1814 and Protector of the Confederation of the Rhine from 1806 to 1813. Born on the island of Corsica to a family of Italian origin, Napoleon moved to mainland France in 1779 and was commissioned as an officer in the French Royal Army in 1785. He supported the French Revolution in 1789 and promoted its cause in Corsica.'\n"
     ]
    }
   ],
   "source": [
    "cleaned = clean_text(raw_text)\n",
    "print(repr(cleaned))"
   ]
  },
  {
   "cell_type": "code",
   "execution_count": 14,
   "id": "9821c9b0",
   "metadata": {},
   "outputs": [
    {
     "name": "stdout",
     "output_type": "stream",
     "text": [
      "- 'Napoleon Bonaparte (born Napoleone di Buonaparte 15 August 1769 – 5 May 1821), later known by his regnal name Napoleon I, was a French   general and statesman who rose to prominence during the French Revolution and led a series of military campaigns across Europe during the French Revolutionary and Napoleonic Wars from 1796 to 1815.\n",
      "?                                                                  ^                                                                      ^^^^^^^^^^^^^^^^^^^^^^^\n",
      "\n",
      "+ 'Napoleon Bonaparte (born Napoleone di Buonaparte 15 August 1769 - 5 May 1821), later known by his regnal name Napoleon I, was a French general and statesman who rose to prominence during the French Revolution and led a series of military campaigns across Europe during the French Revolutionary and Napoleonic Wars from 1796 to 1815.\n",
      "?                                                                  ^                                                                      ^^^^^^^^^^^^^^^^^^^^^\n",
      "\n",
      "  He led the French Republic as First Consul from 1799 to 1804, then ruled the French Empire as Emperor of the French from 1804 to 1814, and briefly again in 1815.\n",
      "  He was King of Italy from 1805 to 1814 and Protector of the Confederation of the Rhine from 1806 to 1813.\n",
      "- Born on the island of Corsica to a family of Italian origin, Napoleon moved to mainland France in 1779 and was commissioned as an officer in the French Royal Army in 1785.\\nHe supported the French Revolution in 1789 and promoted its cause in Corsica.'\n",
      "?                                                                                                                                                                            --------------------------------------------------------------------------------\n",
      "\n",
      "+ Born on the island of Corsica to a family of Italian origin, Napoleon moved to mainland France in 1779 and was commissioned as an officer in the French Royal Army in 1785.\n",
      "+ He supported the French Revolution in 1789 and promoted its cause in Corsica.'\n"
     ]
    }
   ],
   "source": [
    "import difflib\n",
    "import spacy\n",
    "\n",
    "nlp = spacy.load(\"en_core_web_sm\")\n",
    "if not nlp.has_pipe(\"sentencizer\"):\n",
    "    nlp.add_pipe(\"sentencizer\", first=True)\n",
    "    \n",
    "def split_into_sentences(text):\n",
    "    return [sent.text.strip() for sent in nlp(text).sents]\n",
    "\n",
    "raw_sentences = split_into_sentences(repr(raw_text))\n",
    "cleaned_sentences = split_into_sentences(repr(cleaned))\n",
    "\n",
    "diffs = list(difflib.ndiff(raw_sentences, cleaned_sentences))\n",
    "print(\"\\n\".join(diffs))"
   ]
  },
  {
   "cell_type": "markdown",
   "id": "3c844549",
   "metadata": {},
   "source": [
    "As the output of difflib shows all mistakes in the text are found and corrected for.\n",
    "The next step is splitting the given text so the model can use it."
   ]
  },
  {
   "cell_type": "markdown",
   "id": "6055a7a7",
   "metadata": {},
   "source": [
    "## Split text\n",
    "The text will be split per sentence to start testing. spacy with the en_Core_web_sm will be used"
   ]
  },
  {
   "cell_type": "code",
   "execution_count": 15,
   "id": "e819cecf",
   "metadata": {},
   "outputs": [],
   "source": [
    "def split_sentences(text: str):\n",
    "    doc = nlp(text)\n",
    "    return [sent.text.strip() for sent in doc.sents if sent.text.strip()]"
   ]
  },
  {
   "cell_type": "code",
   "execution_count": 16,
   "id": "102e6a14",
   "metadata": {},
   "outputs": [
    {
     "name": "stdout",
     "output_type": "stream",
     "text": [
      "Sentences:\n",
      "1. Napoleon Bonaparte (born Napoleone di Buonaparte 15 August 1769 - 5 May 1821), later known by his regnal name Napoleon I, was a French general and statesman who rose to prominence during the French Revolution and led a series of military campaigns across Europe during the French Revolutionary and Napoleonic Wars from 1796 to 1815.\n",
      "2. He led the French Republic as First Consul from 1799 to 1804, then ruled the French Empire as Emperor of the French from 1804 to 1814, and briefly again in 1815.\n",
      "3. He was King of Italy from 1805 to 1814 and Protector of the Confederation of the Rhine from 1806 to 1813.\n",
      "4. Born on the island of Corsica to a family of Italian origin, Napoleon moved to mainland France in 1779 and was commissioned as an officer in the French Royal Army in 1785.\n",
      "5. He supported the French Revolution in 1789 and promoted its cause in Corsica.\n"
     ]
    }
   ],
   "source": [
    "sentences = split_sentences(cleaned)\n",
    "print(\"Sentences:\")\n",
    "for i, s in enumerate(sentences):\n",
    "    print(f\"{i+1}. {s}\")"
   ]
  },
  {
   "cell_type": "markdown",
   "id": "de9ec633",
   "metadata": {},
   "source": [
    "Now the model `flan-t5-large` will be loaded into the notebook to start testing how triples can be formed for each sentence"
   ]
  },
  {
   "cell_type": "code",
   "execution_count": null,
   "id": "36ed16b5",
   "metadata": {},
   "outputs": [
    {
     "name": "stderr",
     "output_type": "stream",
     "text": [
      "c:\\Users\\laure\\Documents\\S7\\NLP\\venv\\Lib\\site-packages\\tqdm\\auto.py:21: TqdmWarning: IProgress not found. Please update jupyter and ipywidgets. See https://ipywidgets.readthedocs.io/en/stable/user_install.html\n",
      "  from .autonotebook import tqdm as notebook_tqdm\n"
     ]
    }
   ],
   "source": [
    "from transformers import pipeline\n",
    "from langchain.llms import HuggingFacePipeline\n",
    "\n",
    "def load_llm():\n",
    "    text_gen = pipeline(\n",
    "        \"text2text-generation\",\n",
    "        model=\"google/flan-t5-large\",\n",
    "        device=\"cpu\",\n",
    "        do_sample=False,\n",
    "        temperature=0.0,\n",
    "        max_new_tokens=128,\n",
    "    )\n",
    "\n",
    "    return HuggingFacePipeline(pipeline=text_gen)"
   ]
  },
  {
   "cell_type": "code",
   "execution_count": 77,
   "id": "4320b498",
   "metadata": {},
   "outputs": [
    {
     "name": "stderr",
     "output_type": "stream",
     "text": [
      "Device set to use cpu\n",
      "The following generation flags are not valid and may be ignored: ['temperature']. Set `TRANSFORMERS_VERBOSITY=info` for more details.\n"
     ]
    },
    {
     "name": "stdout",
     "output_type": "stream",
     "text": [
      "LLM: \u001b[1mHuggingFacePipeline\u001b[0m\n",
      "Params: {'model_id': 'gpt2', 'model_kwargs': None, 'pipeline_kwargs': None}\n"
     ]
    },
    {
     "name": "stderr",
     "output_type": "stream",
     "text": [
      "C:\\Users\\laure\\AppData\\Local\\Temp\\ipykernel_4604\\2984932410.py:15: LangChainDeprecationWarning: The class `HuggingFacePipeline` was deprecated in LangChain 0.0.37 and will be removed in 1.0. An updated version of the class exists in the :class:`~langchain-huggingface package and should be used instead. To use it run `pip install -U :class:`~langchain-huggingface` and import as `from :class:`~langchain_huggingface import HuggingFacePipeline``.\n",
      "  return HuggingFacePipeline(pipeline=text_gen)\n"
     ]
    }
   ],
   "source": [
    "llm = load_llm()\n",
    "\n",
    "print(\"LLM:\", llm)"
   ]
  },
  {
   "cell_type": "markdown",
   "id": "f624ca28",
   "metadata": {},
   "source": [
    "The model is loaded succesfully. The code for generating the triples and correctly transforming the input text can be found in the next code block.\n",
    "The code will be made to accept multiple documents"
   ]
  },
  {
   "cell_type": "code",
   "execution_count": 17,
   "id": "044d4d8b",
   "metadata": {},
   "outputs": [],
   "source": [
    "from typing import List, Dict\n",
    "from langchain.schema import Document\n",
    "\n",
    "import re\n",
    "import unicodedata\n",
    "from ftfy import fix_text\n",
    "\n",
    "from langchain.schema import Document\n",
    "from langchain.document_loaders import TextLoader\n",
    "\n",
    "\n",
    "def clean_text(text: str) -> str:\n",
    "    text = fix_text(text)\n",
    "    text = unicodedata.normalize(\"NFC\", text)\n",
    "    text = text.replace(\"\\\\n\", \" \")\n",
    "    text = re.sub(r\"(?<!\\n)\\n(?!\\n)\", \" \", text)\n",
    "\n",
    "    text = (\n",
    "        text.replace(\"“\", '\"')\n",
    "            .replace(\"”\", '\"')\n",
    "            .replace(\"‘\", \"'\")\n",
    "            .replace(\"’\", \"'\")\n",
    "            .replace(\"—\", \" - \")\n",
    "            .replace(\"–\", \" - \")\n",
    "            .replace(\"…\", \"...\")\n",
    "    )\n",
    "\n",
    "    text = re.sub(r\"[ \\t]+\", \" \", text)\n",
    "    text = re.sub(r\"\\n\\s*\\n+\", \"\\n\\n\", text)\n",
    "    lines = [line.strip() for line in text.splitlines()]\n",
    "    return \"\\n\".join(lines).strip()\n",
    "\n",
    "\n",
    "def split_sentences(text: str):\n",
    "    doc = nlp(text)\n",
    "    return [sent.text.strip() for sent in doc.sents if sent.text.strip()]\n",
    "\n",
    "\n",
    "\n",
    "def load_documents_and_split_sentences(file_path: str) -> list[Document]:\n",
    "    loader = TextLoader(file_path, encoding=\"utf-8\")\n",
    "    raw_docs = loader.load()\n",
    "\n",
    "    sentence_docs = []\n",
    "    for doc in raw_docs:\n",
    "        cleaned = clean_text(doc.page_content)\n",
    "        sentences = split_sentences(cleaned)\n",
    "        for sent in sentences:\n",
    "            sentence_docs.append(Document(page_content=sent, metadata=doc.metadata))\n",
    "\n",
    "    return sentence_docs\n",
    "\n",
    "\n",
    "def extract_triples(docs: List[Document], llm) -> List[Dict[str, str]]:\n",
    "    prompt = \"\"\"\n",
    "    Your task is to extract triples from a given sentence.\n",
    "    Use the format {{ \"subject\": \"Value\", \"predicate\": \"Value\", \"object\": \"Value\" }}\n",
    "    Sentence:\n",
    "    {chunk_text}\n",
    "    Only output one JSON per line\n",
    "    \"\"\"\n",
    "    raw_triples: List[str] = []\n",
    "\n",
    "    for doc in docs:\n",
    "        full_prompt = prompt.format(chunk_text=doc.page_content)\n",
    "        print(\"\\n\\nFull prompt >>>\", full_prompt)\n",
    "        raw = llm(full_prompt)\n",
    "        print(\"\\nMODEL RAW >>>\", raw)\n",
    "\n",
    "        lines = [line.strip() for line in raw.splitlines() if line.strip()]\n",
    "        raw_triples.extend(lines)\n",
    "    \n",
    "    return raw_triples"
   ]
  },
  {
   "cell_type": "code",
   "execution_count": null,
   "id": "c3d063b0",
   "metadata": {},
   "outputs": [
    {
     "name": "stderr",
     "output_type": "stream",
     "text": [
      "The following generation flags are not valid and may be ignored: ['temperature']. Set `TRANSFORMERS_VERBOSITY=info` for more details.\n"
     ]
    },
    {
     "name": "stdout",
     "output_type": "stream",
     "text": [
      "\n",
      "\n",
      "Full prompt >>> \n",
      "    Your task is to extract triples from a given sentence.\n",
      "    Use the format { \"subject\": \"Value\", \"predicate\": \"Value\", \"object\": \"Value\" }\n",
      "    Sentence:\n",
      "    Napoleon Bonaparte (born Napoleone di Buonaparte 15 August 1769 - 5 May 1821), later known by his regnal name Napoleon I, was a French general and statesman who rose to prominence during the French Revolution and led a series of military campaigns across Europe during the French Revolutionary and Napoleonic Wars from 1796 to 1815.\n",
      "    Only output one JSON per line\n",
      "    \n"
     ]
    },
    {
     "name": "stderr",
     "output_type": "stream",
     "text": [
      "The following generation flags are not valid and may be ignored: ['temperature']. Set `TRANSFORMERS_VERBOSITY=info` for more details.\n"
     ]
    },
    {
     "name": "stdout",
     "output_type": "stream",
     "text": [
      "\n",
      "MODEL RAW >>> Napoleon Bonaparte NATIONALITY France Napoleon Bonaparte NATIONALITY France Napoleon Bonaparte NATIONALITY France Napoleon Bonaparte RANK 1 Napoleon Bonaparte NATIONALITY France Napoleon Bonaparte DATE_OF_BIRTH \"1915-05-05\"\n",
      "\n",
      "\n",
      "Full prompt >>> \n",
      "    Your task is to extract triples from a given sentence.\n",
      "    Use the format { \"subject\": \"Value\", \"predicate\": \"Value\", \"object\": \"Value\" }\n",
      "    Sentence:\n",
      "    He led the French Republic as First Consul from 1799 to 1804, then ruled the French Empire as Emperor of the French from 1804 to 1814, and briefly again in 1815.\n",
      "    Only output one JSON per line\n",
      "    \n"
     ]
    },
    {
     "name": "stderr",
     "output_type": "stream",
     "text": [
      "The following generation flags are not valid and may be ignored: ['temperature']. Set `TRANSFORMERS_VERBOSITY=info` for more details.\n"
     ]
    },
    {
     "name": "stdout",
     "output_type": "stream",
     "text": [
      "\n",
      "MODEL RAW >>>                                                                \n",
      "\n",
      "\n",
      "Full prompt >>> \n",
      "    Your task is to extract triples from a given sentence.\n",
      "    Use the format { \"subject\": \"Value\", \"predicate\": \"Value\", \"object\": \"Value\" }\n",
      "    Sentence:\n",
      "    He was King of Italy from 1805 to 1814 and Protector of the Confederation of the Rhine from 1806 to 1813.\n",
      "    Only output one JSON per line\n",
      "    \n"
     ]
    },
    {
     "name": "stderr",
     "output_type": "stream",
     "text": [
      "The following generation flags are not valid and may be ignored: ['temperature']. Set `TRANSFORMERS_VERBOSITY=info` for more details.\n"
     ]
    },
    {
     "name": "stdout",
     "output_type": "stream",
     "text": [
      "\n",
      "MODEL RAW >>>                                                                \n",
      "\n",
      "\n",
      "Full prompt >>> \n",
      "    Your task is to extract triples from a given sentence.\n",
      "    Use the format { \"subject\": \"Value\", \"predicate\": \"Value\", \"object\": \"Value\" }\n",
      "    Sentence:\n",
      "    Born on the island of Corsica to a family of Italian origin, Napoleon moved to mainland France in 1779 and was commissioned as an officer in the French Royal Army in 1785.\n",
      "    Only output one JSON per line\n",
      "    \n"
     ]
    },
    {
     "name": "stderr",
     "output_type": "stream",
     "text": [
      "The following generation flags are not valid and may be ignored: ['temperature']. Set `TRANSFORMERS_VERBOSITY=info` for more details.\n"
     ]
    },
    {
     "name": "stdout",
     "output_type": "stream",
     "text": [
      "\n",
      "MODEL RAW >>> Napoleon ORIGIN Italy Napoleon COMMANDER_IN_THE_FRENCH_RAYAL_ARMY 1785 Napoleon BIRTH_PLACE Corsica Napoleon COMMANDER_IN_THE_FRENCH_RAYAL_ARMY 1779\n",
      "\n",
      "\n",
      "Full prompt >>> \n",
      "    Your task is to extract triples from a given sentence.\n",
      "    Use the format { \"subject\": \"Value\", \"predicate\": \"Value\", \"object\": \"Value\" }\n",
      "    Sentence:\n",
      "    He supported the French Revolution in 1789 and promoted its cause in Corsica.\n",
      "    Only output one JSON per line\n",
      "    \n",
      "\n",
      "MODEL RAW >>>                                                                \n",
      "Extracted 2 triples\n"
     ]
    },
    {
     "data": {
      "text/plain": [
       "['Napoleon Bonaparte NATIONALITY France Napoleon Bonaparte NATIONALITY France Napoleon Bonaparte NATIONALITY France Napoleon Bonaparte RANK 1 Napoleon Bonaparte NATIONALITY France Napoleon Bonaparte DATE_OF_BIRTH \"1915-05-05\"',\n",
       " 'Napoleon ORIGIN Italy Napoleon COMMANDER_IN_THE_FRENCH_RAYAL_ARMY 1785 Napoleon BIRTH_PLACE Corsica Napoleon COMMANDER_IN_THE_FRENCH_RAYAL_ARMY 1779']"
      ]
     },
     "execution_count": 91,
     "metadata": {},
     "output_type": "execute_result"
    }
   ],
   "source": [
    "sentences = load_documents_and_split_sentences(\"test_file.txt\")\n",
    "\n",
    "triples = extract_triples(sentences, llm)\n",
    "print(f\"Extracted {len(triples)} triples\")\n",
    "triples[:]"
   ]
  },
  {
   "cell_type": "markdown",
   "id": "046dc918",
   "metadata": {},
   "source": [
    "### Result\n",
    "The model is having problems with outputting the triples and following the JSON format. This can be a limitation of smaller models. There is a possibility that with few shot it can do it. For speed and not using more than needed only two sentences will be given to the model"
   ]
  },
  {
   "cell_type": "code",
   "execution_count": null,
   "id": "9b1f9729",
   "metadata": {},
   "outputs": [
    {
     "name": "stderr",
     "output_type": "stream",
     "text": [
      "The following generation flags are not valid and may be ignored: ['temperature']. Set `TRANSFORMERS_VERBOSITY=info` for more details.\n"
     ]
    },
    {
     "name": "stdout",
     "output_type": "stream",
     "text": [
      "\n",
      "\n",
      "Full prompt >>> \n",
      "    Your task is to extract triples from the given sentence.\n",
      "    Use the format {\"subject\": \"Value\", \"predicate\": \"Value\", \"object\": \"Value\"}.\n",
      "    Only output one JSON object per line, with no surrounding text.\n",
      "\n",
      "    Examples:\n",
      "    Sentence: \"Marie Curie won the Nobel Prize in Physics in 1903.\"\n",
      "    {\"subject\": \"Marie Curie\", \"predicate\": \"won\", \"object\": \"the Nobel Prize in Physics in 1903\"}\n",
      "\n",
      "    Sentence: \"The Amazon River flows through Brazil.\"\n",
      "    {\"subject\": \"The Amazon River\", \"predicate\": \"flows through\", \"object\": \"Brazil\"}\n",
      "\n",
      "    Now extract the triple from this sentence:\n",
      "    Napoleon Bonaparte (born Napoleone di Buonaparte 15 August 1769 - 5 May 1821), later known by his regnal name Napoleon I, was a French general and statesman who rose to prominence during the French Revolution and led a series of military campaigns across Europe during the French Revolutionary and Napoleonic Wars from 1796 to 1815.\n",
      "    \n"
     ]
    },
    {
     "name": "stderr",
     "output_type": "stream",
     "text": [
      "The following generation flags are not valid and may be ignored: ['temperature']. Set `TRANSFORMERS_VERBOSITY=info` for more details.\n"
     ]
    },
    {
     "name": "stdout",
     "output_type": "stream",
     "text": [
      "\n",
      "MODEL RAW >>> ['Napoleon Bonaparte', 'NATIONALITY', 'France'], 'Napoleon Bonaparte', 'NATIONALITY', 'France'], 'Napoleon Bonaparte', 'NATIONALITY', 'France'], 'Napoleon Bonaparte', 'BIRTH_PLACE', 'Napoleone di Buonaparte'], 'NATIONALITY', 'France'], 'N\n",
      "\n",
      "\n",
      "Full prompt >>> \n",
      "    Your task is to extract triples from the given sentence.\n",
      "    Use the format {\"subject\": \"Value\", \"predicate\": \"Value\", \"object\": \"Value\"}.\n",
      "    Only output one JSON object per line, with no surrounding text.\n",
      "\n",
      "    Examples:\n",
      "    Sentence: \"Marie Curie won the Nobel Prize in Physics in 1903.\"\n",
      "    {\"subject\": \"Marie Curie\", \"predicate\": \"won\", \"object\": \"the Nobel Prize in Physics in 1903\"}\n",
      "\n",
      "    Sentence: \"The Amazon River flows through Brazil.\"\n",
      "    {\"subject\": \"The Amazon River\", \"predicate\": \"flows through\", \"object\": \"Brazil\"}\n",
      "\n",
      "    Now extract the triple from this sentence:\n",
      "    He led the French Republic as First Consul from 1799 to 1804, then ruled the French Empire as Emperor of the French from 1804 to 1814, and briefly again in 1815.\n",
      "    \n",
      "\n",
      "MODEL RAW >>> [TABLECONTEXT] [TITLE] Louis XIV of France [TABLECONTEXT] LEADER_NAME Louis XIV of France [TABLECONTEXT] NAME Louis XIV of France [TABLECONTEXT] [TITLE] French Empire Louis XIV of France EMPEROR_OF_THE_FRANCE Louis XIV of France FIRST_CONSULT 1799-1804 Louis XIV of France PERIOD 1804-1814 Louis XIV of France BRIEF_\n",
      "Extracted 2 triples\n"
     ]
    },
    {
     "data": {
      "text/plain": [
       "[\"['Napoleon Bonaparte', 'NATIONALITY', 'France'], 'Napoleon Bonaparte', 'NATIONALITY', 'France'], 'Napoleon Bonaparte', 'NATIONALITY', 'France'], 'Napoleon Bonaparte', 'BIRTH_PLACE', 'Napoleone di Buonaparte'], 'NATIONALITY', 'France'], 'N\",\n",
       " '[TABLECONTEXT] [TITLE] Louis XIV of France [TABLECONTEXT] LEADER_NAME Louis XIV of France [TABLECONTEXT] NAME Louis XIV of France [TABLECONTEXT] [TITLE] French Empire Louis XIV of France EMPEROR_OF_THE_FRANCE Louis XIV of France FIRST_CONSULT 1799-1804 Louis XIV of France PERIOD 1804-1814 Louis XIV of France BRIEF_']"
      ]
     },
     "execution_count": 90,
     "metadata": {},
     "output_type": "execute_result"
    }
   ],
   "source": [
    "def extract_triples(docs: List[Document], llm) -> List[Dict[str, str]]:\n",
    "    prompt = \"\"\"\n",
    "    Your task is to extract triples from the given sentence.\n",
    "    Use the format {{\"subject\": \"Value\", \"predicate\": \"Value\", \"object\": \"Value\"}}.\n",
    "    Only output one JSON object per line, with no surrounding text.\n",
    "\n",
    "    Examples:\n",
    "    Sentence: \"Marie Curie won the Nobel Prize in Physics in 1903.\"\n",
    "    {{\"subject\": \"Marie Curie\", \"predicate\": \"won\", \"object\": \"the Nobel Prize in Physics in 1903\"}}\n",
    "\n",
    "    Sentence: \"The Amazon River flows through Brazil.\"\n",
    "    {{\"subject\": \"The Amazon River\", \"predicate\": \"flows through\", \"object\": \"Brazil\"}}\n",
    "\n",
    "    Now extract the triple from this sentence:\n",
    "    {chunk_text}\n",
    "    \"\"\"\n",
    "    raw_triples: List[str] = []\n",
    "\n",
    "    for doc in docs:\n",
    "        full_prompt = prompt.format(chunk_text=doc.page_content)\n",
    "        print(\"\\n\\nFull prompt >>>\", full_prompt)\n",
    "        raw = llm(full_prompt)\n",
    "        print(\"\\nMODEL RAW >>>\", raw)\n",
    "        \n",
    "        lines = [line.strip() for line in raw.splitlines() if line.strip()]\n",
    "        raw_triples.extend(lines)\n",
    "    \n",
    "    return raw_triples\n",
    "\n",
    "\n",
    "sentences = load_documents_and_split_sentences(\"test_file.txt\")\n",
    "\n",
    "triples = extract_triples(sentences[:2], llm)\n",
    "print(f\"Extracted {len(triples)} triples\")\n",
    "triples[:]"
   ]
  },
  {
   "cell_type": "markdown",
   "id": "6a225794",
   "metadata": {},
   "source": [
    "From the output it is visible that there is more structure but it is still far from valid JSON or correct triples. It could be the model that is giving the problems. A bigger model or chat style models might perform better.\n",
    "Chat style models are not as easy to implement, for now a bigger local model will be chosen"
   ]
  },
  {
   "cell_type": "code",
   "execution_count": null,
   "id": "624fef00",
   "metadata": {},
   "outputs": [],
   "source": [
    "# from transformers import AutoModelForCausalLM, AutoTokenizer, pipeline\n",
    "# from langchain.llms import HuggingFacePipeline\n",
    "\n",
    "# def load_llm():\n",
    "#     tokenizer = AutoTokenizer.from_pretrained(\n",
    "#         \"lmsys/vicuna-7b-v1.5\",\n",
    "#         trust_remote_code=True,\n",
    "#         use_fast=False\n",
    "#     )\n",
    "#     model = AutoModelForCausalLM.from_pretrained(\n",
    "#         \"lmsys/vicuna-7b-v1.5\",\n",
    "#         trust_remote_code=True,\n",
    "#         device_map=\"auto\"\n",
    "#     )\n",
    "\n",
    "#     chat_pipe = pipeline(\n",
    "#         \"chat\",\n",
    "#         model=model,\n",
    "#         tokenizer=tokenizer,\n",
    "#         temperature=0.0,\n",
    "#         max_new_tokens=128,\n",
    "#     )\n",
    "\n",
    "#     return HuggingFacePipeline(pipeline=chat_pipe)\n",
    "\n",
    "# llm = load_llm()"
   ]
  },
  {
   "cell_type": "code",
   "execution_count": 4,
   "id": "55f7ba07",
   "metadata": {},
   "outputs": [
    {
     "name": "stderr",
     "output_type": "stream",
     "text": [
      "llama_context: n_batch is less than GGML_KQ_MASK_PAD - increasing to 64\n"
     ]
    }
   ],
   "source": [
    "from langchain.llms import LlamaCpp\n",
    "\n",
    "model_path = \"models/mythomax-l2-13b.Q5_K_M.gguf\"\n",
    "n_ctx = 4096\n",
    "llm = LlamaCpp(\n",
    "    model_path=model_path,\n",
    "    n_ctx=n_ctx,\n",
    "    n_threads=16,\n",
    "    n_gpu_layers=0,\n",
    "    use_mmap=True,\n",
    "    use_mlock=False,\n",
    "    verbose=False\n",
    ")"
   ]
  },
  {
   "cell_type": "code",
   "execution_count": 18,
   "id": "1ce1d5f3",
   "metadata": {},
   "outputs": [
    {
     "name": "stderr",
     "output_type": "stream",
     "text": [
      "C:\\Users\\laure\\AppData\\Local\\Temp\\ipykernel_17380\\1908198685.py:21: LangChainDeprecationWarning: The method `BaseLLM.__call__` was deprecated in langchain-core 0.1.7 and will be removed in 1.0. Use :meth:`~invoke` instead.\n",
      "  raw = llm(\n"
     ]
    },
    {
     "name": "stdout",
     "output_type": "stream",
     "text": [
      "\n",
      "MODEL RAW >>> {\"subject\": \"Napoleon Bonaparte\", \"predicate\": \"(born Napoleone di Buonaparte 15 August 1769 - 5 May 1821)\", \"object\": \"a French general and statesman\"}\n",
      "\n",
      "\n",
      "MODEL RAW >>> {\"subject\": \"He\", \"predicate\": \"led the French Republic as First Consul from 1799 to 1804\", \"object\": \"\"}\n",
      "{\"subject\": \"He\", \"predicate\": \"ruled the French Empire as Emperor of the French from 180\n",
      "Extracted 3 triples\n"
     ]
    },
    {
     "data": {
      "text/plain": [
       "['{\"subject\": \"Napoleon Bonaparte\", \"predicate\": \"(born Napoleone di Buonaparte 15 August 1769 - 5 May 1821)\", \"object\": \"a French general and statesman\"}',\n",
       " '{\"subject\": \"He\", \"predicate\": \"led the French Republic as First Consul from 1799 to 1804\", \"object\": \"\"}',\n",
       " '{\"subject\": \"He\", \"predicate\": \"ruled the French Empire as Emperor of the French from 180']"
      ]
     },
     "execution_count": 18,
     "metadata": {},
     "output_type": "execute_result"
    }
   ],
   "source": [
    "def extract_triples(docs: List[Document], llm) -> List[str]:   \n",
    "    system = f\"\"\"Your task is to extract triples from the given sentence.\n",
    "    Use the format {{\"subject\": \"Value\", \"predicate\": \"Value\", \"object\": \"Value\"}}.\n",
    "    Only output one JSON object per line, with no surrounding text.\n",
    "    \"\"\"\n",
    "\n",
    "    few_shot = f\"\"\"\n",
    "    Examples:\n",
    "    Sentence: \"Marie Curie won the Nobel Prize in Physics in 1903.\"\n",
    "    {{\"subject\": \"Marie Curie\", \"predicate\": \"won\", \"object\": \"the Nobel Prize in Physics in 1903\"}}\n",
    "\n",
    "    Sentence: \"The Amazon River flows through Brazil.\"\n",
    "    {{\"subject\": \"The Amazon River\", \"predicate\": \"flows through\", \"object\": \"Brazil\"}}\n",
    "    \"\"\"\n",
    "\n",
    "    raw_triples: List[str] = []\n",
    "    for doc in docs:\n",
    "        chunk_text = doc.page_content\n",
    "        user = f\"User: {chunk_text}\\nAssistant:\\n\"\n",
    "        prompt = \"\\n\\n\".join([system, few_shot, user])\n",
    "        raw = llm(\n",
    "            prompt,\n",
    "            max_tokens=64,\n",
    "            temperature=0.0,\n",
    "            top_p=0.9,\n",
    "            top_k=50,\n",
    "            repeat_penalty=1.1,\n",
    "            stop=[\"\\n\\n\",\"User:\"],\n",
    "        )\n",
    "        print(\"\\nMODEL RAW >>>\", raw)\n",
    "\n",
    "        # split into nonempty lines\n",
    "        lines = [ln.strip() for ln in raw.splitlines() if ln.strip()]\n",
    "        raw_triples.extend(lines)\n",
    "\n",
    "    return raw_triples\n",
    "\n",
    "\n",
    "sentences = load_documents_and_split_sentences(\"test_file.txt\")\n",
    "\n",
    "triples = extract_triples(sentences[:2], llm)\n",
    "print(f\"Extracted {len(triples)} triples\")\n",
    "triples[:]"
   ]
  },
  {
   "cell_type": "markdown",
   "id": "a2aef590",
   "metadata": {},
   "source": [
    "The bigger model does perform better but it does not always axtract a complete set. The parameters can be changed to leave less room for the model"
   ]
  },
  {
   "cell_type": "code",
   "execution_count": 19,
   "id": "63e4bfee",
   "metadata": {},
   "outputs": [
    {
     "name": "stdout",
     "output_type": "stream",
     "text": [
      "\n",
      "MODEL RAW >>> {\"subject\": \"Napoleon Bonaparte\", \"predicate\": \"(born Napoleone di Buonaparte 15 August 1769 - 5 May 1821)\", \"object\": \"a French general and statesman\"}\n",
      "\n",
      "\n",
      "MODEL RAW >>> {\"subject\": \"He\", \"predicate\": \"led the French Republic as First Consul from 1799 to 1804\", \"object\": \"\"}\n",
      "{\"subject\": \"He\", \"predicate\": \"ruled the French Empire as Emperor of the French from 1804 to 1814\", \"object\": \"\"}\n",
      "{\"subject\": \"He\", \"predicate\": \"briefly ruled the French Empire again in 1\n",
      "Extracted 4 triples\n"
     ]
    },
    {
     "data": {
      "text/plain": [
       "['{\"subject\": \"Napoleon Bonaparte\", \"predicate\": \"(born Napoleone di Buonaparte 15 August 1769 - 5 May 1821)\", \"object\": \"a French general and statesman\"}',\n",
       " '{\"subject\": \"He\", \"predicate\": \"led the French Republic as First Consul from 1799 to 1804\", \"object\": \"\"}',\n",
       " '{\"subject\": \"He\", \"predicate\": \"ruled the French Empire as Emperor of the French from 1804 to 1814\", \"object\": \"\"}',\n",
       " '{\"subject\": \"He\", \"predicate\": \"briefly ruled the French Empire again in 1']"
      ]
     },
     "execution_count": 19,
     "metadata": {},
     "output_type": "execute_result"
    }
   ],
   "source": [
    "def extract_triples(docs: List[Document], llm) -> List[str]:   \n",
    "    system = f\"\"\"Your task is to extract triples from the given sentence.\n",
    "    Use the format {{\"subject\": \"Value\", \"predicate\": \"Value\", \"object\": \"Value\"}}.\n",
    "    Only output one JSON object per line, with no surrounding text.\n",
    "    \"\"\"\n",
    "\n",
    "    few_shot = f\"\"\"\n",
    "    Examples:\n",
    "    Sentence: \"Marie Curie won the Nobel Prize in Physics in 1903.\"\n",
    "    {{\"subject\": \"Marie Curie\", \"predicate\": \"won\", \"object\": \"the Nobel Prize in Physics in 1903\"}}\n",
    "\n",
    "    Sentence: \"The Amazon River flows through Brazil.\"\n",
    "    {{\"subject\": \"The Amazon River\", \"predicate\": \"flows through\", \"object\": \"Brazil\"}}\n",
    "    \"\"\"\n",
    "\n",
    "    raw_triples: List[str] = []\n",
    "    for doc in docs:\n",
    "        chunk_text = doc.page_content\n",
    "        user = f\"User: {chunk_text}\\nAssistant:\\n\"\n",
    "        prompt = \"\\n\\n\".join([system, few_shot, user])\n",
    "        raw = llm(\n",
    "            prompt,\n",
    "            max_tokens=100,\n",
    "            temperature=0.0,\n",
    "            top_p=1.0,\n",
    "            top_k=1,\n",
    "            repeat_penalty=1.1,\n",
    "            stop=[\"\\n\\n\",\"User:\"],\n",
    "        )\n",
    "        print(\"\\nMODEL RAW >>>\", raw)\n",
    "\n",
    "        # split into nonempty lines\n",
    "        lines = [ln.strip() for ln in raw.splitlines() if ln.strip()]\n",
    "        raw_triples.extend(lines)\n",
    "\n",
    "    return raw_triples\n",
    "\n",
    "\n",
    "sentences = load_documents_and_split_sentences(\"test_file.txt\")\n",
    "\n",
    "triples = extract_triples(sentences[:2], llm)\n",
    "print(f\"Extracted {len(triples)} triples\")\n",
    "triples[:]"
   ]
  },
  {
   "cell_type": "markdown",
   "id": "a10fe0d0",
   "metadata": {},
   "source": [
    "The model manages to extract one extra triple but again not always complete in terms of three keys and values. Another option is to change the output format. JSON can be diffiult for these \"smaller\" models. Splitting by for example the pipe `|` and newline could be easier"
   ]
  },
  {
   "cell_type": "code",
   "execution_count": 20,
   "id": "f5841629",
   "metadata": {},
   "outputs": [
    {
     "name": "stdout",
     "output_type": "stream",
     "text": [
      "\n",
      "MODEL RAW >>> Napoleon Bonaparte | was born as | Napoleone di Buonaparte\n",
      "Napoleon Bonaparte | later known by his regnal name | Napoleon I\n",
      "Napoleon Bonaparte | rose to prominence during | the French Revolution\n",
      "Napoleon Bonaparte | led a series of military campaigns across Europe during | the French Revolutionary and Napoleonic Wars from 1796 to 1815\n",
      "\n",
      "MODEL RAW >>> - Napoleon Bonaparte | ruled as | Emperor of the French from 1804 to 1814 and briefly in 1815\n",
      "- Napoleon Bonaparte | led the French Republic as | First Consul from 1799 to 1804\n",
      "Extracted 6 triples\n"
     ]
    },
    {
     "data": {
      "text/plain": [
       "['Napoleon Bonaparte | was born as | Napoleone di Buonaparte',\n",
       " 'Napoleon Bonaparte | later known by his regnal name | Napoleon I',\n",
       " 'Napoleon Bonaparte | rose to prominence during | the French Revolution',\n",
       " 'Napoleon Bonaparte | led a series of military campaigns across Europe during | the French Revolutionary and Napoleonic Wars from 1796 to 1815',\n",
       " '- Napoleon Bonaparte | ruled as | Emperor of the French from 1804 to 1814 and briefly in 1815',\n",
       " '- Napoleon Bonaparte | led the French Republic as | First Consul from 1799 to 1804']"
      ]
     },
     "execution_count": 20,
     "metadata": {},
     "output_type": "execute_result"
    }
   ],
   "source": [
    "def extract_triples(docs: List[Document], llm) -> List[str]:\n",
    "    system = f\"\"\"Your task is to extract triples from the given sentence.\n",
    "    Your only job is to pull out valid subject | predicate | object triples.\n",
    "    - Output one triple per line, exactly in the format:\n",
    "    subject | predicate | object\n",
    "    If the sentence contains more than one relation, list every triple on its own line.\n",
    "    \"\"\"\n",
    "\n",
    "    few_shot = f\"\"\"\n",
    "    Examples:\n",
    "    Sentence: \"Marie Curie won the Nobel Prize in Physics in 1903.\"\n",
    "    Marie Curie | won | the Nobel Prize in Physics in 1903\n",
    "\n",
    "    Sentence: \"The Amazon River flows through Brazil.\"\n",
    "    The Amazon River | flows through | Brazil\n",
    "    \"\"\"\n",
    "\n",
    "    raw_triples: List[str] = []\n",
    "    for doc in docs:\n",
    "        chunk_text = doc.page_content\n",
    "        user = f\"User: {chunk_text}\\nAssistant:\\n\"\n",
    "        prompt = \"\\n\\n\".join([system, few_shot, user])\n",
    "        raw = llm(\n",
    "            prompt,\n",
    "            max_tokens=100,\n",
    "            temperature=0.0,\n",
    "            top_p=1.0,\n",
    "            top_k=1,\n",
    "            repeat_penalty=1.1,\n",
    "            stop=[\"\\n\\n\",\"User:\"],\n",
    "        )\n",
    "        print(\"\\nMODEL RAW >>>\", raw)\n",
    "\n",
    "        # split into nonempty lines\n",
    "        lines = [ln.strip() for ln in raw.splitlines() if ln.strip()]\n",
    "        raw_triples.extend(lines)\n",
    "\n",
    "    return raw_triples\n",
    "\n",
    "\n",
    "sentences = load_documents_and_split_sentences(\"test_file.txt\")\n",
    "\n",
    "triples = extract_triples(sentences[:2], llm)\n",
    "print(f\"Extracted {len(triples)} triples\")\n",
    "triples[:]"
   ]
  },
  {
   "cell_type": "markdown",
   "id": "8ca787f9",
   "metadata": {},
   "source": [
    "With the new system prompt and few shot it is visible that the model extracts more triples and performs slightly better. In some cases it does not extract three correct triples. The system prompt can be extended together with the few shot to give the model a better idea of what it is supposed to do"
   ]
  },
  {
   "cell_type": "code",
   "execution_count": 21,
   "id": "d1959f49",
   "metadata": {},
   "outputs": [
    {
     "name": "stdout",
     "output_type": "stream",
     "text": [
      "\n",
      "MODEL RAW >>> Napoleon Bonaparte | was born as | Napoleone di Buonaparte\n",
      "Napoleon Bonaparte | later known by his regnal name | Napoleon I\n",
      "Napoleon Bonaparte | rose to prominence during | French Revolution\n",
      "\n",
      "MODEL RAW >>> Napoleon Bonaparte | led the French Republic as First Consul from | 1799 to 1804\n",
      "Napoleon Bonaparte | ruled the French Empire as Emperor of the French from | 1804 to 1814\n",
      "Napoleon Bonaparte | briefly ruled the French Empire as Emperor of the French from | 1815\n",
      "Extracted 6 triples\n"
     ]
    },
    {
     "data": {
      "text/plain": [
       "['Napoleon Bonaparte | was born as | Napoleone di Buonaparte',\n",
       " 'Napoleon Bonaparte | later known by his regnal name | Napoleon I',\n",
       " 'Napoleon Bonaparte | rose to prominence during | French Revolution',\n",
       " 'Napoleon Bonaparte | led the French Republic as First Consul from | 1799 to 1804',\n",
       " 'Napoleon Bonaparte | ruled the French Empire as Emperor of the French from | 1804 to 1814',\n",
       " 'Napoleon Bonaparte | briefly ruled the French Empire as Emperor of the French from | 1815']"
      ]
     },
     "execution_count": 21,
     "metadata": {},
     "output_type": "execute_result"
    }
   ],
   "source": [
    "def extract_triples(docs: List[Document], llm) -> List[str]:\n",
    "    system = \"\"\"You are an information-extraction assistant.\n",
    "    Your only job is to pull out valid subject | predicate | object triples.\n",
    "    Output one triple per line, exactly in the format:\n",
    "    subject | predicate | object\n",
    "    - If the sentence contains more than one relation, list every triple on its own line.\n",
    "    Do NOT output:\n",
    "        - duplicate or inverted triples\n",
    "        - commentary or extra text\n",
    "        - passive-voice fluff\n",
    "    \"\"\"\n",
    "\n",
    "    few_shot = f\"\"\"\n",
    "    User: Alice wrote Bob a letter.\n",
    "    Assistant:\n",
    "    Alice | wrote | Bob a letter\n",
    "\n",
    "    User: John works at Acme Corp and lives in Paris.\n",
    "    Assistant:\n",
    "    John | works at | Acme Corp\n",
    "    John | lives in | Paris\n",
    "\n",
    "    User: In 2020, Company X acquired Company Y.\n",
    "    Assistant:\n",
    "    Company X | acquired | Company Y\n",
    "    \"\"\"\n",
    "\n",
    "    raw_triples: List[str] = []\n",
    "    for doc in docs:\n",
    "        chunk_text = doc.page_content\n",
    "        user = f\"User: {chunk_text}\\nAssistant:\\n\"\n",
    "        prompt = \"\\n\\n\".join([system, few_shot, user])\n",
    "        raw = llm(\n",
    "            prompt,\n",
    "            max_tokens=100,\n",
    "            temperature=0.0,\n",
    "            top_p=1.0,\n",
    "            top_k=1,\n",
    "            repeat_penalty=1.1,\n",
    "            stop=[\"\\n\\n\",\"User:\"],\n",
    "        )\n",
    "        print(\"\\nMODEL RAW >>>\", raw)\n",
    "\n",
    "        # split into nonempty lines\n",
    "        lines = [ln.strip() for ln in raw.splitlines() if ln.strip()]\n",
    "        raw_triples.extend(lines)\n",
    "\n",
    "    return raw_triples\n",
    "\n",
    "\n",
    "sentences = load_documents_and_split_sentences(\"test_file.txt\")\n",
    "\n",
    "triples = extract_triples(sentences[:2], llm)\n",
    "print(f\"Extracted {len(triples)} triples\")\n",
    "triples[:]"
   ]
  },
  {
   "cell_type": "markdown",
   "id": "aa430c9d",
   "metadata": {},
   "source": [
    "The outputs is of a good enough. In some cases the predicate is a bit longer than needed. Now it is a good time to see how the model performs when there is more text. The next paragraph from the wikipedia page is added to a new text file named `test_file_v2.txt`"
   ]
  },
  {
   "cell_type": "code",
   "execution_count": 24,
   "id": "f3fa1f82",
   "metadata": {},
   "outputs": [
    {
     "name": "stdout",
     "output_type": "stream",
     "text": [
      "sentence added to list:  Napoleon Bonaparte (born Napoleone di Buonaparte 15 August 1769 - 5 May 1821), later known by his regnal name Napoleon I, was a French general and statesman who rose to prominence during the French Revolution and led a series of military campaigns across Europe during the French Revolutionary and Napoleonic Wars from 1796 to 1815.\n",
      "sentence added to list:  He led the French Republic as First Consul from 1799 to 1804, then ruled the French Empire as Emperor of the French from 1804 to 1814, and briefly again in 1815.\n",
      "sentence added to list:  He was King of Italy from 1805 to 1814 and Protector of the Confederation of the Rhine from 1806 to 1813.\n",
      "sentence added to list:  Born on the island of Corsica to a family of Italian origin, Napoleon moved to mainland France in 1779 and was commissioned as an officer in the French Royal Army in 1785.\n",
      "sentence added to list:  He supported the French Revolution in 1789 and promoted its cause in Corsica.\n",
      "sentence added to list:  He rose rapidly through the ranks after winning the siege of Toulon in 1793 and defeating royalist insurgents in Paris on 13 Vendémiaire in 1795.\n",
      "sentence added to list:  In 1796, Napoleon commanded a military campaign against the Austrians and their Italian allies in the War of the First Coalition, scoring decisive victories and becoming a national hero.\n",
      "sentence added to list:  He led an invasion of Egypt and Syria in 1798 which served as a springboard to political power.\n",
      "sentence added to list:  In November 1799, Napoleon engineered the Coup of 18 Brumaire against the French Directory and became First Consul of the Republic.\n",
      "sentence added to list:  He won the Battle of Marengo in 1800, which secured France's victory in the War of the Second Coalition, and in 1803 he sold the territory of Louisiana to the United States.\n",
      "sentence added to list:  In December 1804, Napoleon crowned himself Emperor of the French, further expanding his power.\n",
      "\n",
      "MODEL RAW >>> Napoleon Bonaparte | was born as | Napoleone di Buonaparte\n",
      "Napoleon Bonaparte | later known by his regnal name | Napoleon I\n",
      "Napoleon Bonaparte | rose to prominence during | French Revolution\n",
      "\n",
      "MODEL RAW >>> Napoleon Bonaparte | led the French Republic as First Consul from | 1799 to 1804\n",
      "Napoleon Bonaparte | ruled the French Empire as Emperor of the French from | 1804 to 1814\n",
      "Napoleon Bonaparte | briefly ruled the French Empire as Emperor of the French from | 1815\n",
      "\n",
      "MODEL RAW >>> Napoleon Bonaparte | was King of Italy from | 1805 to 1814\n",
      "Napoleon Bonaparte | was Protector of the Confederation of the Rhine from | 1806 to 1813\n",
      "\n",
      "MODEL RAW >>> Napoleon | was born on | the island of Corsica\n",
      "Napoleon | has Italian origin\n",
      "Napoleon | moved to | mainland France in 1779\n",
      "Napoleon | was commissioned as an officer in the French Royal Army in 1785\n",
      "\n",
      "MODEL RAW >>> He | supported the French Revolution in | 1789\n",
      "He | promoted its cause in | Corsica\n",
      "\n",
      "MODEL RAW >>> Napoleon Bonaparte | rose rapidly through the ranks after winning | the siege of Toulon in 1793\n",
      "Napoleon Bonaparte | defeated royalist insurgents in Paris on | 13 Vendémiaire in 1795\n",
      "\n",
      "MODEL RAW >>> Napoleon | commanded | a military campaign against the Austrians and their Italian allies in the War of the First Coalition\n",
      "Napoleon | scored decisive victories\n",
      "Napoleon | became a national hero\n",
      "\n",
      "MODEL RAW >>> subject | predicate | object\n",
      "He | led an invasion of | Egypt and Syria\n",
      "He | led an invasion of | Egypt and Syria\n",
      "He | led an invasion of | Egypt and Syria\n",
      "\n",
      "MODEL RAW >>> Napoleon | engineered | the Coup of 18 Brumaire against the French Directory\n",
      "Napoleon | became | First Consul of the Republic\n",
      "\n",
      "MODEL RAW >>> He | won the Battle of Marengo in 1800 |\n",
      "He | secured France's victory in the War of the Second Coalition |\n",
      "In 1803, he | sold the territory of Louisiana to the United States.\n",
      "\n",
      "MODEL RAW >>> Napoleon | crowned himself Emperor of the French | In December 1804\n",
      "Napoleon | expanded his power | further\n",
      "\n",
      "Extracted 30 triples\n"
     ]
    },
    {
     "data": {
      "text/plain": [
       "['Napoleon Bonaparte | was born as | Napoleone di Buonaparte',\n",
       " 'Napoleon Bonaparte | later known by his regnal name | Napoleon I',\n",
       " 'Napoleon Bonaparte | rose to prominence during | French Revolution',\n",
       " 'Napoleon Bonaparte | led the French Republic as First Consul from | 1799 to 1804',\n",
       " 'Napoleon Bonaparte | ruled the French Empire as Emperor of the French from | 1804 to 1814',\n",
       " 'Napoleon Bonaparte | briefly ruled the French Empire as Emperor of the French from | 1815',\n",
       " 'Napoleon Bonaparte | was King of Italy from | 1805 to 1814',\n",
       " 'Napoleon Bonaparte | was Protector of the Confederation of the Rhine from | 1806 to 1813',\n",
       " 'Napoleon | was born on | the island of Corsica',\n",
       " 'Napoleon | has Italian origin',\n",
       " 'Napoleon | moved to | mainland France in 1779',\n",
       " 'Napoleon | was commissioned as an officer in the French Royal Army in 1785',\n",
       " 'He | supported the French Revolution in | 1789',\n",
       " 'He | promoted its cause in | Corsica',\n",
       " 'Napoleon Bonaparte | rose rapidly through the ranks after winning | the siege of Toulon in 1793',\n",
       " 'Napoleon Bonaparte | defeated royalist insurgents in Paris on | 13 Vendémiaire in 1795',\n",
       " 'Napoleon | commanded | a military campaign against the Austrians and their Italian allies in the War of the First Coalition',\n",
       " 'Napoleon | scored decisive victories',\n",
       " 'Napoleon | became a national hero',\n",
       " 'subject | predicate | object',\n",
       " 'He | led an invasion of | Egypt and Syria',\n",
       " 'He | led an invasion of | Egypt and Syria',\n",
       " 'He | led an invasion of | Egypt and Syria',\n",
       " 'Napoleon | engineered | the Coup of 18 Brumaire against the French Directory',\n",
       " 'Napoleon | became | First Consul of the Republic',\n",
       " 'He | won the Battle of Marengo in 1800 |',\n",
       " \"He | secured France's victory in the War of the Second Coalition |\",\n",
       " 'In 1803, he | sold the territory of Louisiana to the United States.',\n",
       " 'Napoleon | crowned himself Emperor of the French | In December 1804',\n",
       " 'Napoleon | expanded his power | further']"
      ]
     },
     "execution_count": 24,
     "metadata": {},
     "output_type": "execute_result"
    }
   ],
   "source": [
    "def load_documents_and_split_sentences(file_path: str) -> list[Document]:\n",
    "    loader = TextLoader(file_path, encoding=\"utf-8\")\n",
    "    raw_docs = loader.load()\n",
    "\n",
    "    sentence_docs = []\n",
    "    for doc in raw_docs:\n",
    "        cleaned = clean_text(doc.page_content)\n",
    "        sentences = split_sentences(cleaned)\n",
    "        for sentence in sentences:\n",
    "            print(\"sentence added to list: \", sentence)\n",
    "            sentence_docs.append(Document(page_content=sentence, metadata=doc.metadata))\n",
    "\n",
    "    return sentence_docs\n",
    "\n",
    "def extract_triples(docs: List[Document], llm) -> List[str]:\n",
    "    system = \"\"\"You are an information-extraction assistant.\n",
    "    Your only job is to pull out valid subject | predicate | object triples.\n",
    "    Output one triple per line, exactly in the format:\n",
    "    subject | predicate | object\n",
    "    - If the sentence contains more than one relation, list every triple on its own line.\n",
    "    Do NOT output:\n",
    "        - duplicate or inverted triples\n",
    "        - commentary or extra text\n",
    "        - passive-voice fluff\n",
    "    \"\"\"\n",
    "\n",
    "    few_shot = f\"\"\"\n",
    "    User: Alice wrote Bob a letter.\n",
    "    Assistant:\n",
    "    Alice | wrote | Bob a letter\n",
    "\n",
    "    User: John works at Acme Corp and lives in Paris.\n",
    "    Assistant:\n",
    "    John | works at | Acme Corp\n",
    "    John | lives in | Paris\n",
    "\n",
    "    User: In 2020, Company X acquired Company Y.\n",
    "    Assistant:\n",
    "    Company X | acquired | Company Y\n",
    "    \"\"\"\n",
    "\n",
    "    raw_triples: List[str] = []\n",
    "    for doc in docs:\n",
    "        chunk_text = doc.page_content\n",
    "        user = f\"User: {chunk_text}\\nAssistant:\\n\"\n",
    "        prompt = \"\\n\\n\".join([system, few_shot, user])\n",
    "        raw = llm(\n",
    "            prompt,\n",
    "            max_tokens=100,\n",
    "            temperature=0.0,\n",
    "            top_p=1.0,\n",
    "            top_k=1,\n",
    "            repeat_penalty=1.1,\n",
    "            stop=[\"\\n\\n\",\"User:\"],\n",
    "        )\n",
    "        print(\"\\nMODEL RAW >>>\", raw)\n",
    "\n",
    "        # split into nonempty lines\n",
    "        lines = [ln.strip() for ln in raw.splitlines() if ln.strip()]\n",
    "        raw_triples.extend(lines)\n",
    "\n",
    "    return raw_triples\n",
    "\n",
    "\n",
    "sentences = load_documents_and_split_sentences(\"test_file_v2.txt\")\n",
    "\n",
    "triples = extract_triples(sentences, llm)\n",
    "print(f\"\\nExtracted {len(triples)} triples\")\n",
    "triples[:]"
   ]
  },
  {
   "cell_type": "markdown",
   "id": "23658aef",
   "metadata": {},
   "source": [
    "With more complicated text it still appears to perform well. Now the text mentions `he` and `napoleon` in the text instead of his full name. This can be handled in the easiest way by adding multiple sentences instead of one. This model allows it within the context limits. The proposal is to select 3 sentences with an overlap of one sentence to give better context to the model. In a few cases the model still has trouble extracting triples"
   ]
  },
  {
   "cell_type": "code",
   "execution_count": 26,
   "id": "bb2aee30",
   "metadata": {},
   "outputs": [
    {
     "name": "stdout",
     "output_type": "stream",
     "text": [
      "sentence_chunk added to list:  Napoleon Bonaparte (born Napoleone di Buonaparte 15 August 1769 - 5 May 1821), later known by his regnal name Napoleon I, was a French general and statesman who rose to prominence during the French Revolution and led a series of military campaigns across Europe during the French Revolutionary and Napoleonic Wars from 1796 to 1815. He led the French Republic as First Consul from 1799 to 1804, then ruled the French Empire as Emperor of the French from 1804 to 1814, and briefly again in 1815. He was King of Italy from 1805 to 1814 and Protector of the Confederation of the Rhine from 1806 to 1813.\n",
      "sentence_chunk added to list:  He was King of Italy from 1805 to 1814 and Protector of the Confederation of the Rhine from 1806 to 1813. Born on the island of Corsica to a family of Italian origin, Napoleon moved to mainland France in 1779 and was commissioned as an officer in the French Royal Army in 1785. He supported the French Revolution in 1789 and promoted its cause in Corsica.\n",
      "sentence_chunk added to list:  He supported the French Revolution in 1789 and promoted its cause in Corsica. He rose rapidly through the ranks after winning the siege of Toulon in 1793 and defeating royalist insurgents in Paris on 13 Vendémiaire in 1795. In 1796, Napoleon commanded a military campaign against the Austrians and their Italian allies in the War of the First Coalition, scoring decisive victories and becoming a national hero.\n",
      "sentence_chunk added to list:  In 1796, Napoleon commanded a military campaign against the Austrians and their Italian allies in the War of the First Coalition, scoring decisive victories and becoming a national hero. He led an invasion of Egypt and Syria in 1798 which served as a springboard to political power. In November 1799, Napoleon engineered the Coup of 18 Brumaire against the French Directory and became First Consul of the Republic.\n",
      "sentence_chunk added to list:  In November 1799, Napoleon engineered the Coup of 18 Brumaire against the French Directory and became First Consul of the Republic. He won the Battle of Marengo in 1800, which secured France's victory in the War of the Second Coalition, and in 1803 he sold the territory of Louisiana to the United States. In December 1804, Napoleon crowned himself Emperor of the French, further expanding his power.\n",
      "sentence_chunk added to list:  In December 1804, Napoleon crowned himself Emperor of the French, further expanding his power.\n"
     ]
    }
   ],
   "source": [
    "def load_documents_and_chunk_sentences(\n",
    "    file_path: str,\n",
    "    window_size: int = 3,\n",
    "    overlap: int = 1\n",
    ") -> List[Document]:\n",
    "    \"\"\"\n",
    "    Splits each raw document into sentences, then emits Documents\n",
    "    whose page_content is a sliding window of `window_size`\n",
    "    sentences, stepping by (window_size − overlap).\n",
    "    \"\"\"\n",
    "    loader = TextLoader(file_path, encoding=\"utf-8\")\n",
    "    raw_docs = loader.load()\n",
    "\n",
    "    sentence_chunks: List[Document] = []\n",
    "    step = window_size - overlap\n",
    "    for doc in raw_docs:\n",
    "        cleaned = clean_text(doc.page_content)\n",
    "        sentences = split_sentences(cleaned)\n",
    "\n",
    "        for i in range(0, len(sentences), step):\n",
    "            chunk_sents = sentences[i : i + window_size]\n",
    "            if not chunk_sents:\n",
    "                continue\n",
    "\n",
    "            chunk_text = \" \".join(chunk_sents)\n",
    "            print(\"sentence_chunk added to list: \", chunk_text)\n",
    "            sentence_chunks.append(\n",
    "                Document(page_content=chunk_text, metadata=doc.metadata)\n",
    "            )\n",
    "\n",
    "    return sentence_chunks\n",
    "\n",
    "sentences = load_documents_and_chunk_sentences(\"test_file_v2.txt\")"
   ]
  },
  {
   "cell_type": "markdown",
   "id": "e01558a2",
   "metadata": {},
   "source": [
    "The last sentence could be removed if it is already used in the second to last item. For now this will be left"
   ]
  },
  {
   "cell_type": "code",
   "execution_count": 27,
   "id": "b5ef839a",
   "metadata": {},
   "outputs": [
    {
     "name": "stdout",
     "output_type": "stream",
     "text": [
      "\n",
      "MODEL RAW >>> Napoleon Bonaparte | was born as | Napoleone di Buonaparte\n",
      "Napoleon Bonaparte | later known by his regnal name | Napoleon I\n",
      "Napoleon Bonaparte | was a French general and statesman \n",
      "Napoleon Bonaparte | rose to prominence during the French Revolution\n",
      "Napoleon Bonaparte | led military campaigns across Europe during the French Revolutionary and Napoleonic Wars from 1\n",
      "\n",
      "MODEL RAW >>> Napoleon | was born on | the island of Corsica\n",
      "Napoleon | was King of Italy from | 1805 to 1814\n",
      "Napoleon | was Protector of the Confederation of the Rhine from | 1806 to 1813\n",
      "\n",
      "MODEL RAW >>> Napoleon | supported the French Revolution in | 1789\n",
      "Napoleon | promoted its cause in | Corsica\n",
      "Napoleon | won the siege of Toulon in | 1793\n",
      "Napoleon | defeated royalist insurgents in Paris on | 13 Vendémiaire in | 1795\n",
      "Napoleon | commanded a military campaign against the Austrians and their Italian al\n",
      "\n",
      "MODEL RAW >>> Napoleon | commanded | a military campaign against the Austrians and their Italian allies in the War of the First Coalition\n",
      "Napoleon | led | an invasion of Egypt and Syria\n",
      "Napoleon | engineered | the Coup of 18 Brumaire against the French Directory\n",
      "\n",
      "MODEL RAW >>> Napoleon | engineered the Coup of 18 Brumaire against the French Directory in November 1799 and became First Consul of the Republic\n",
      "Napoleon | won the Battle of Marengo in 1800, which secured France's victory in the War of the Second Coalition\n",
      "Napoleon | sold the territory of Louisiana to the United States in 1803\n",
      "Napoleon | crowned himself\n",
      "\n",
      "MODEL RAW >>> Napoleon | crowned himself Emperor of the French | In December 1804\n",
      "Napoleon | expanded his power | further\n",
      "\n",
      "Extracted 22 triples\n"
     ]
    },
    {
     "data": {
      "text/plain": [
       "['Napoleon Bonaparte | was born as | Napoleone di Buonaparte',\n",
       " 'Napoleon Bonaparte | later known by his regnal name | Napoleon I',\n",
       " 'Napoleon Bonaparte | was a French general and statesman',\n",
       " 'Napoleon Bonaparte | rose to prominence during the French Revolution',\n",
       " 'Napoleon Bonaparte | led military campaigns across Europe during the French Revolutionary and Napoleonic Wars from 1',\n",
       " 'Napoleon | was born on | the island of Corsica',\n",
       " 'Napoleon | was King of Italy from | 1805 to 1814',\n",
       " 'Napoleon | was Protector of the Confederation of the Rhine from | 1806 to 1813',\n",
       " 'Napoleon | supported the French Revolution in | 1789',\n",
       " 'Napoleon | promoted its cause in | Corsica',\n",
       " 'Napoleon | won the siege of Toulon in | 1793',\n",
       " 'Napoleon | defeated royalist insurgents in Paris on | 13 Vendémiaire in | 1795',\n",
       " 'Napoleon | commanded a military campaign against the Austrians and their Italian al',\n",
       " 'Napoleon | commanded | a military campaign against the Austrians and their Italian allies in the War of the First Coalition',\n",
       " 'Napoleon | led | an invasion of Egypt and Syria',\n",
       " 'Napoleon | engineered | the Coup of 18 Brumaire against the French Directory',\n",
       " 'Napoleon | engineered the Coup of 18 Brumaire against the French Directory in November 1799 and became First Consul of the Republic',\n",
       " \"Napoleon | won the Battle of Marengo in 1800, which secured France's victory in the War of the Second Coalition\",\n",
       " 'Napoleon | sold the territory of Louisiana to the United States in 1803',\n",
       " 'Napoleon | crowned himself',\n",
       " 'Napoleon | crowned himself Emperor of the French | In December 1804',\n",
       " 'Napoleon | expanded his power | further']"
      ]
     },
     "execution_count": 27,
     "metadata": {},
     "output_type": "execute_result"
    }
   ],
   "source": [
    "triples = extract_triples(sentences, llm)\n",
    "print(f\"\\nExtracted {len(triples)} triples\")\n",
    "triples[:]"
   ]
  },
  {
   "cell_type": "markdown",
   "id": "37107278",
   "metadata": {},
   "source": [
    "The model now seems to have some trouble to extract the triples, in some cases it extract more than three, in other only 2. Giving bigger chunks did help in removing the usage of `he` instead if his name. It also extracts 22 triples, this is 8 less than before.\n",
    "\n",
    "the model might struggle with the longer sentences. The first step is to adjust the system prompt and the examples and see the results"
   ]
  },
  {
   "cell_type": "code",
   "execution_count": null,
   "id": "f35f9658",
   "metadata": {},
   "outputs": [
    {
     "name": "stdout",
     "output_type": "stream",
     "text": [
      "sentence_chunk added to list:  Napoleon Bonaparte (born Napoleone di Buonaparte 15 August 1769 - 5 May 1821), later known by his regnal name Napoleon I, was a French general and statesman who rose to prominence during the French Revolution and led a series of military campaigns across Europe during the French Revolutionary and Napoleonic Wars from 1796 to 1815. He led the French Republic as First Consul from 1799 to 1804, then ruled the French Empire as Emperor of the French from 1804 to 1814, and briefly again in 1815. He was King of Italy from 1805 to 1814 and Protector of the Confederation of the Rhine from 1806 to 1813.\n",
      "sentence_chunk added to list:  He was King of Italy from 1805 to 1814 and Protector of the Confederation of the Rhine from 1806 to 1813. Born on the island of Corsica to a family of Italian origin, Napoleon moved to mainland France in 1779 and was commissioned as an officer in the French Royal Army in 1785. He supported the French Revolution in 1789 and promoted its cause in Corsica.\n",
      "sentence_chunk added to list:  He supported the French Revolution in 1789 and promoted its cause in Corsica. He rose rapidly through the ranks after winning the siege of Toulon in 1793 and defeating royalist insurgents in Paris on 13 Vendémiaire in 1795. In 1796, Napoleon commanded a military campaign against the Austrians and their Italian allies in the War of the First Coalition, scoring decisive victories and becoming a national hero.\n",
      "sentence_chunk added to list:  In 1796, Napoleon commanded a military campaign against the Austrians and their Italian allies in the War of the First Coalition, scoring decisive victories and becoming a national hero. He led an invasion of Egypt and Syria in 1798 which served as a springboard to political power. In November 1799, Napoleon engineered the Coup of 18 Brumaire against the French Directory and became First Consul of the Republic.\n",
      "sentence_chunk added to list:  In November 1799, Napoleon engineered the Coup of 18 Brumaire against the French Directory and became First Consul of the Republic. He won the Battle of Marengo in 1800, which secured France's victory in the War of the Second Coalition, and in 1803 he sold the territory of Louisiana to the United States. In December 1804, Napoleon crowned himself Emperor of the French, further expanding his power.\n",
      "sentence_chunk added to list:  In December 1804, Napoleon crowned himself Emperor of the French, further expanding his power.\n",
      "\n",
      "MODEL RAW >>> Napoleon Bonaparte | was born on | 15 August 1769\n",
      "Napoleon Bonaparte | rose to prominence during | the French Revolution\n",
      "Napoleon Bonaparte | led military campaigns across Europe during | the French Revolutionary and Napoleonic Wars from 1796 to 1815\n",
      "Napoleon Bonaparte | was the First Consul of France from | 1799 to 1804\n",
      "Napoleon Bonaparte | was the Emperor of the French from | 1804 to 1814 and briefly again in 1815\n",
      "Napoleon Bonaparte | was King of Italy from | 1805 to 1814\n",
      "Napoleon Bonaparte | was the Protector of the Confederation of the Rhine from | 1806 to 1813\n",
      "\n",
      "MODEL RAW >>> Napoleon | was King of Italy from | 1805 to 1814\n",
      "Napoleon | was Protector of the Confederation of the Rhine from | 1806 to 1813\n",
      "Napoleon | was born on | the island of Corsica\n",
      "Napoleon | had Italian origin\n",
      "Napoleon | moved to mainland France in | 1779\n",
      "Napoleon | was commissioned as an officer in the French Royal Army in | 1785\n",
      "Napoleon | supported the French Revolution in | 1789\n",
      "Napoleon | promoted its cause in Corsica\n",
      "\n",
      "MODEL RAW >>> Napoleon | supported | the French Revolution in 1789\n",
      "Napoleon | promoted | the cause of the French Revolution in Corsica\n",
      "Napoleon | won | the siege of Toulon in 1793\n",
      "Napoleon | defeated | royalist insurgents in Paris on 13 Vendémiaire in 1795\n",
      "Napoleon | commanded | a military campaign against the Austrians and their Italian allies in the War of the First Coalition in 1796\n",
      "\n",
      "MODEL RAW >>> Napoleon | commanded | a military campaign against the Austrians and their Italian allies in the War of the First Coalition\n",
      "Napoleon | scored decisive victories | in the War of the First Coalition\n",
      "Napoleon | became a national hero | in the War of the First Coalition\n",
      "Napoleon | led an invasion of Egypt and Syria | in 1798\n",
      "Napoleon | engineered | the Coup of 18 Brumaire against the French Directory\n",
      "Napoleon | became | the First Consul of the Republic\n",
      "\n",
      "MODEL RAW >>> Napoleon | engineered the Coup of 18 Brumaire against | the French Directory\n",
      "Napoleon | became First Consul of the Republic | in November 1799\n",
      "Napoleon | won the Battle of Marengo | in 1800\n",
      "France's victory in the War of the Second Coalition | was secured by | Napoleon winning the Battle of Marengo\n",
      "the territory of Louisiana | was sold by | France to the United States\n",
      "in 1803 | under the rule of | Napoleon\n",
      "Napoleon | crowned himself Emperor of the French | in December 1804\n",
      "\n",
      "MODEL RAW >>> Napoleon | crowned himself | Emperor of the French\n",
      "Napoleon | further expanded his power\n",
      "\n",
      "Extracted 35 triples\n"
     ]
    },
    {
     "data": {
      "text/plain": [
       "['Napoleon Bonaparte | was born on | 15 August 1769',\n",
       " 'Napoleon Bonaparte | rose to prominence during | the French Revolution',\n",
       " 'Napoleon Bonaparte | led military campaigns across Europe during | the French Revolutionary and Napoleonic Wars from 1796 to 1815',\n",
       " 'Napoleon Bonaparte | was the First Consul of France from | 1799 to 1804',\n",
       " 'Napoleon Bonaparte | was the Emperor of the French from | 1804 to 1814 and briefly again in 1815',\n",
       " 'Napoleon Bonaparte | was King of Italy from | 1805 to 1814',\n",
       " 'Napoleon Bonaparte | was the Protector of the Confederation of the Rhine from | 1806 to 1813',\n",
       " 'Napoleon | was King of Italy from | 1805 to 1814',\n",
       " 'Napoleon | was Protector of the Confederation of the Rhine from | 1806 to 1813',\n",
       " 'Napoleon | was born on | the island of Corsica',\n",
       " 'Napoleon | had Italian origin',\n",
       " 'Napoleon | moved to mainland France in | 1779',\n",
       " 'Napoleon | was commissioned as an officer in the French Royal Army in | 1785',\n",
       " 'Napoleon | supported the French Revolution in | 1789',\n",
       " 'Napoleon | promoted its cause in Corsica',\n",
       " 'Napoleon | supported | the French Revolution in 1789',\n",
       " 'Napoleon | promoted | the cause of the French Revolution in Corsica',\n",
       " 'Napoleon | won | the siege of Toulon in 1793',\n",
       " 'Napoleon | defeated | royalist insurgents in Paris on 13 Vendémiaire in 1795',\n",
       " 'Napoleon | commanded | a military campaign against the Austrians and their Italian allies in the War of the First Coalition in 1796',\n",
       " 'Napoleon | commanded | a military campaign against the Austrians and their Italian allies in the War of the First Coalition',\n",
       " 'Napoleon | scored decisive victories | in the War of the First Coalition',\n",
       " 'Napoleon | became a national hero | in the War of the First Coalition',\n",
       " 'Napoleon | led an invasion of Egypt and Syria | in 1798',\n",
       " 'Napoleon | engineered | the Coup of 18 Brumaire against the French Directory',\n",
       " 'Napoleon | became | the First Consul of the Republic',\n",
       " 'Napoleon | engineered the Coup of 18 Brumaire against | the French Directory',\n",
       " 'Napoleon | became First Consul of the Republic | in November 1799',\n",
       " 'Napoleon | won the Battle of Marengo | in 1800',\n",
       " \"France's victory in the War of the Second Coalition | was secured by | Napoleon winning the Battle of Marengo\",\n",
       " 'the territory of Louisiana | was sold by | France to the United States',\n",
       " 'in 1803 | under the rule of | Napoleon',\n",
       " 'Napoleon | crowned himself Emperor of the French | in December 1804',\n",
       " 'Napoleon | crowned himself | Emperor of the French',\n",
       " 'Napoleon | further expanded his power']"
      ]
     },
     "execution_count": 29,
     "metadata": {},
     "output_type": "execute_result"
    }
   ],
   "source": [
    "def extract_triples(docs: List[Document], llm) -> List[str]:\n",
    "    system = \"\"\"You are an information-extraction assistant.\n",
    "    Your only job is to pull out valid subject | predicate | object triples from the text that follows.\n",
    "    **Only** use facts explicitly stated in that text. Do **not** use any external or world knowledge.\n",
    "    Output one triple per line in the format:\n",
    "    subject | predicate | object\n",
    "    No other text or commentary.\n",
    "    When you see a verb phrase followed by a prepositional phrase starting with “during”, “in”, “on”, or “at”, \n",
    "    treat that prepositional phrase as the object and do not include it in the predicate.\n",
    "    \"\"\"\n",
    "\n",
    "    few_shot = \"\"\"\n",
    "    User: Alice and Bob co-authored a research paper on natural language processing, which was published in 2021.\n",
    "    Assistant:\n",
    "    Alice | co-authored | a research paper on natural language processing\n",
    "    Bob | co-authored | a research paper on natural language processing\n",
    "    a research paper on natural language processing | was published in | 2021\n",
    "\n",
    "    User: John works at Acme Corp and lives in Paris.\n",
    "    Assistant:\n",
    "    John | works at | Acme Corp\n",
    "    John | lives in | Paris\n",
    "\n",
    "    User: Sarah, the founder of TechStart, delivered the keynote in Berlin. She also launched a new product.\n",
    "    Assistant:\n",
    "    Sarah | is the founder of | TechStart\n",
    "    Sarah | delivered | the keynote in Berlin\n",
    "    Sarah | launched | a new product\n",
    "\n",
    "    User: The conference rose to prominence during the Industrial Revolution.\n",
    "    Assistant:\n",
    "    The conference | rose to prominence | the Industrial Revolution\n",
    "    \"\"\"\n",
    "\n",
    "    raw_triples: List[str] = []\n",
    "    for doc in docs:\n",
    "        chunk_text = doc.page_content\n",
    "        user = f\"User: {chunk_text}\\nAssistant:\\n\"\n",
    "        prompt = \"\\n\\n\".join([system, few_shot, user])\n",
    "        raw = llm(\n",
    "            prompt,\n",
    "            max_tokens=1250,\n",
    "            temperature=0.0,\n",
    "            top_p=1.0,\n",
    "            top_k=1,\n",
    "            repeat_penalty=1.1,\n",
    "            stop=[\"\\n\\n\",\"User:\"],\n",
    "        )\n",
    "        print(\"\\nMODEL RAW >>>\", raw)\n",
    "\n",
    "        lines = [ln.strip() for ln in raw.splitlines() if ln.strip()]\n",
    "        raw_triples.extend(lines)\n",
    "\n",
    "    return raw_triples\n",
    "\n",
    "\n",
    "sentences = load_documents_and_chunk_sentences(\"test_file_v2.txt\")\n",
    "\n",
    "triples = extract_triples(sentences, llm)\n",
    "print(f\"\\nExtracted {len(triples)} triples\")\n",
    "triples[:]"
   ]
  },
  {
   "cell_type": "markdown",
   "id": "27c114d9",
   "metadata": {},
   "source": [
    "The performance of triple generation is far better with the new system prompt and few shot. It sometimes keeps making the mistake of extracting only the subject and the predicate so there are some improvement left for a next iteration. It also in some cases keeps the predicate or object too long. For now the focus will be on extracting the triples and then implementing the solution in streamlit"
   ]
  },
  {
   "cell_type": "code",
   "execution_count": 31,
   "id": "bf043e02",
   "metadata": {},
   "outputs": [
    {
     "data": {
      "text/plain": [
       "[{'subject': 'Napoleon Bonaparte',\n",
       "  'predicate': 'was born on',\n",
       "  'object': '15 August 1769'},\n",
       " {'subject': 'Napoleon Bonaparte',\n",
       "  'predicate': 'rose to prominence during',\n",
       "  'object': 'the French Revolution'},\n",
       " {'subject': 'Napoleon Bonaparte',\n",
       "  'predicate': 'led military campaigns across Europe during',\n",
       "  'object': 'the French Revolutionary and Napoleonic Wars from 1796 to 1815'},\n",
       " {'subject': 'Napoleon Bonaparte',\n",
       "  'predicate': 'was the First Consul of France from',\n",
       "  'object': '1799 to 1804'},\n",
       " {'subject': 'Napoleon Bonaparte',\n",
       "  'predicate': 'was the Emperor of the French from',\n",
       "  'object': '1804 to 1814 and briefly again in 1815'},\n",
       " {'subject': 'Napoleon Bonaparte',\n",
       "  'predicate': 'was King of Italy from',\n",
       "  'object': '1805 to 1814'},\n",
       " {'subject': 'Napoleon Bonaparte',\n",
       "  'predicate': 'was the Protector of the Confederation of the Rhine from',\n",
       "  'object': '1806 to 1813'},\n",
       " {'subject': 'Napoleon',\n",
       "  'predicate': 'was King of Italy from',\n",
       "  'object': '1805 to 1814'},\n",
       " {'subject': 'Napoleon',\n",
       "  'predicate': 'was Protector of the Confederation of the Rhine from',\n",
       "  'object': '1806 to 1813'},\n",
       " {'subject': 'Napoleon',\n",
       "  'predicate': 'was born on',\n",
       "  'object': 'the island of Corsica'},\n",
       " {'subject': 'Napoleon',\n",
       "  'predicate': 'moved to mainland France in',\n",
       "  'object': '1779'},\n",
       " {'subject': 'Napoleon',\n",
       "  'predicate': 'was commissioned as an officer in the French Royal Army in',\n",
       "  'object': '1785'},\n",
       " {'subject': 'Napoleon',\n",
       "  'predicate': 'supported the French Revolution in',\n",
       "  'object': '1789'},\n",
       " {'subject': 'Napoleon',\n",
       "  'predicate': 'supported',\n",
       "  'object': 'the French Revolution in 1789'},\n",
       " {'subject': 'Napoleon',\n",
       "  'predicate': 'promoted',\n",
       "  'object': 'the cause of the French Revolution in Corsica'},\n",
       " {'subject': 'Napoleon',\n",
       "  'predicate': 'won',\n",
       "  'object': 'the siege of Toulon in 1793'},\n",
       " {'subject': 'Napoleon',\n",
       "  'predicate': 'defeated',\n",
       "  'object': 'royalist insurgents in Paris on 13 Vendémiaire in 1795'},\n",
       " {'subject': 'Napoleon',\n",
       "  'predicate': 'commanded',\n",
       "  'object': 'a military campaign against the Austrians and their Italian allies in the War of the First Coalition in 1796'},\n",
       " {'subject': 'Napoleon',\n",
       "  'predicate': 'commanded',\n",
       "  'object': 'a military campaign against the Austrians and their Italian allies in the War of the First Coalition'},\n",
       " {'subject': 'Napoleon',\n",
       "  'predicate': 'scored decisive victories',\n",
       "  'object': 'in the War of the First Coalition'},\n",
       " {'subject': 'Napoleon',\n",
       "  'predicate': 'became a national hero',\n",
       "  'object': 'in the War of the First Coalition'},\n",
       " {'subject': 'Napoleon',\n",
       "  'predicate': 'led an invasion of Egypt and Syria',\n",
       "  'object': 'in 1798'},\n",
       " {'subject': 'Napoleon',\n",
       "  'predicate': 'engineered',\n",
       "  'object': 'the Coup of 18 Brumaire against the French Directory'},\n",
       " {'subject': 'Napoleon',\n",
       "  'predicate': 'became',\n",
       "  'object': 'the First Consul of the Republic'},\n",
       " {'subject': 'Napoleon',\n",
       "  'predicate': 'engineered the Coup of 18 Brumaire against',\n",
       "  'object': 'the French Directory'},\n",
       " {'subject': 'Napoleon',\n",
       "  'predicate': 'became First Consul of the Republic',\n",
       "  'object': 'in November 1799'},\n",
       " {'subject': 'Napoleon',\n",
       "  'predicate': 'won the Battle of Marengo',\n",
       "  'object': 'in 1800'},\n",
       " {'subject': \"France's victory in the War of the Second Coalition\",\n",
       "  'predicate': 'was secured by',\n",
       "  'object': 'Napoleon winning the Battle of Marengo'},\n",
       " {'subject': 'the territory of Louisiana',\n",
       "  'predicate': 'was sold by',\n",
       "  'object': 'France to the United States'},\n",
       " {'subject': 'in 1803',\n",
       "  'predicate': 'under the rule of',\n",
       "  'object': 'Napoleon'},\n",
       " {'subject': 'Napoleon',\n",
       "  'predicate': 'crowned himself Emperor of the French',\n",
       "  'object': 'in December 1804'},\n",
       " {'subject': 'Napoleon',\n",
       "  'predicate': 'crowned himself',\n",
       "  'object': 'Emperor of the French'}]"
      ]
     },
     "metadata": {},
     "output_type": "display_data"
    }
   ],
   "source": [
    "triples_list = []\n",
    "\n",
    "for triple in triples:\n",
    "    for line in triple.splitlines():\n",
    "        parts = [p.strip() for p in line.split(\"|\")]\n",
    "        if len(parts) == 3:\n",
    "            subj, pred, obj = parts\n",
    "            triples_list.append({\"subject\": subj, \"predicate\": pred, \"object\": obj})\n",
    "\n",
    "display(triples_list)"
   ]
  }
 ],
 "metadata": {
  "kernelspec": {
   "display_name": "venv",
   "language": "python",
   "name": "python3"
  },
  "language_info": {
   "codemirror_mode": {
    "name": "ipython",
    "version": 3
   },
   "file_extension": ".py",
   "mimetype": "text/x-python",
   "name": "python",
   "nbconvert_exporter": "python",
   "pygments_lexer": "ipython3",
   "version": "3.11.9"
  }
 },
 "nbformat": 4,
 "nbformat_minor": 5
}
